{
 "cells": [
  {
   "cell_type": "markdown",
   "id": "9207713b",
   "metadata": {},
   "source": [
    "# Assignment Submission - Sarvam Research Fellowship \n",
    "\n",
    "I plan to obtain results for these Pre-trained Fast-text vectors(common crawl) using the Supervised Procrustes method"
   ]
  },
  {
   "cell_type": "markdown",
   "id": "d4c17c22",
   "metadata": {},
   "source": [
    "How to run the code:\n",
    "\n",
    "1. Clone the repo\n",
    "2. Download fasttext embeddings(.bin - common crawl) from https://fasttext.cc/docs/en/crawl-vectors.html store it in a folder\n",
    "3. install the necessary libraries\n",
    "\n",
    "Declaration: I used GenAI(ChatGPT, Grok) to assist and verify my solution"
   ]
  },
  {
   "cell_type": "code",
   "execution_count": 23,
   "id": "ad261905",
   "metadata": {},
   "outputs": [],
   "source": [
    "# Import libraries for embedding loading (fasttext), numerical operations (numpy), progress tracking (tqdm), and efficient search (faiss) - didnt have enough time to solve the optional part due to a MLHC deadline\n",
    "import fasttext\n",
    "import numpy as np\n",
    "from tqdm import tqdm\n",
    "import faiss\n",
    "import matplotlib.pyplot as plt"
   ]
  },
  {
   "cell_type": "code",
   "execution_count": 3,
   "id": "d8fe9a04",
   "metadata": {},
   "outputs": [],
   "source": [
    "# Set random seeds for NumPy and Python to ensure reproducible results\n",
    "np.random.seed(42)"
   ]
  },
  {
   "cell_type": "code",
   "execution_count": 5,
   "id": "cc62c788",
   "metadata": {},
   "outputs": [],
   "source": [
    "# device = torch.device('cuda' if torch.cuda.is_available() else 'cpu')"
   ]
  },
  {
   "cell_type": "markdown",
   "id": "806c2ee2",
   "metadata": {},
   "source": [
    "## 1. Data Preparation\n"
   ]
  },
  {
   "cell_type": "markdown",
   "id": "ab3dc6a2",
   "metadata": {},
   "source": [
    "\n",
    "### 1.1 Pre-trained Fast-text vectors and limit vocab to top 100K most frequent words\n"
   ]
  },
  {
   "cell_type": "code",
   "execution_count": 6,
   "id": "80caa91d",
   "metadata": {},
   "outputs": [],
   "source": [
    "def load_embeddings(file_path, max_words=100000):\n",
    "    model = fasttext.load_model(file_path)\n",
    "    words = model.get_words()[:max_words] \n",
    "    embeddings = {}\n",
    "    \n",
    "    for word in words:\n",
    "        vector = model.get_word_vector(word)\n",
    "        vector = vector / np.linalg.norm(vector) \n",
    "        embeddings[word] = vector\n",
    "    \n",
    "    return embeddings"
   ]
  },
  {
   "cell_type": "code",
   "execution_count": 7,
   "id": "424480d3",
   "metadata": {},
   "outputs": [
    {
     "name": "stdout",
     "output_type": "stream",
     "text": [
      "Loaded 100000 English and 100000 Hindi embeddings.\n"
     ]
    }
   ],
   "source": [
    "en_embeddings = load_embeddings('./Fasttext_Embeddings/cc.en.300.bin')\n",
    "hi_embeddings = load_embeddings('./Fasttext_Embeddings/cc.hi.300.bin')\n",
    "print(f\"Loaded {len(en_embeddings)} English and {len(hi_embeddings)} Hindi embeddings.\")"
   ]
  },
  {
   "cell_type": "markdown",
   "id": "0a0a6b25",
   "metadata": {},
   "source": [
    "###  1.3 Extract a list of word translation pairs from the MUSE dataset "
   ]
  },
  {
   "cell_type": "code",
   "execution_count": 8,
   "id": "a7f30390",
   "metadata": {},
   "outputs": [],
   "source": [
    "def load_MUSE_dictionary(file_path, src_emb, tgt_emb):\n",
    "    pairs = []\n",
    "    with open(file_path, 'r', encoding='utf-8') as f:\n",
    "        for line in f:\n",
    "            src_word, tgt_word = line.strip().split()\n",
    "            if src_word in src_emb and tgt_word in tgt_emb:\n",
    "                pairs.append((src_word, tgt_word))\n",
    "    return pairs"
   ]
  },
  {
   "cell_type": "code",
   "execution_count": 9,
   "id": "66ffeab2",
   "metadata": {},
   "outputs": [
    {
     "name": "stdout",
     "output_type": "stream",
     "text": [
      "Training pairs: 8130, Test pairs: 1600\n"
     ]
    }
   ],
   "source": [
    "train_pairs = load_MUSE_dictionary('./MUSE/en-hi.train.txt', en_embeddings, hi_embeddings)\n",
    "test_pairs = load_MUSE_dictionary('./MUSE/en-hi.test.txt', en_embeddings, hi_embeddings)\n",
    "print(f\"Training pairs: {len(train_pairs)}, Test pairs: {len(test_pairs)}\")"
   ]
  },
  {
   "cell_type": "markdown",
   "id": "0283027a",
   "metadata": {},
   "source": [
    "\n",
    "## 2. Embedding Alignment\n"
   ]
  },
  {
   "cell_type": "markdown",
   "id": "ad1194cf",
   "metadata": {},
   "source": [
    "### 2.1 Implementing the Procrustes Alignment Method and ensure that the mapping is orthogonal"
   ]
  },
  {
   "cell_type": "code",
   "execution_count": null,
   "id": "a1ef1816",
   "metadata": {},
   "outputs": [],
   "source": [
    "# Define Procrustes alignment to compute orthogonal mapping W using SVD on training pairs\n",
    "# Verify orthogonality of W and return the mapping matrix\n",
    "\n",
    "def procrustes_alignment(train_pairs, src_emb, tgt_emb):\n",
    "    # Build matrices X (source) and Y (target)\n",
    "    X = np.array([src_emb[src_word] for src_word, _ in train_pairs]).T  # Shape: (300, n_pairs)\n",
    "    Y = np.array([tgt_emb[tgt_word] for _, tgt_word in train_pairs]).T  # Shape: (300, n_pairs)\n",
    "    \n",
    "    # Compute the mapping\n",
    "    M = Y @ X.T  # Shape: (300, 300)\n",
    "    U, _, Vh = np.linalg.svd(M)\n",
    "    W = U @ Vh  # Orthogonal matrix: (300, 300)\n",
    "    \n",
    "    # Verify orthogonality (W @ W.T should be close to identity)\n",
    "    assert np.allclose(W @ W.T, np.eye(300), atol=1e-6), \"W is not orthogonal\"\n",
    "    return W"
   ]
  },
  {
   "cell_type": "code",
   "execution_count": 11,
   "id": "37eec44b",
   "metadata": {},
   "outputs": [],
   "source": [
    "W = procrustes_alignment(train_pairs, en_embeddings, hi_embeddings)"
   ]
  },
  {
   "cell_type": "markdown",
   "id": "551e2926",
   "metadata": {},
   "source": [
    "\n",
    "## 3. Evaluation\n"
   ]
  },
  {
   "cell_type": "markdown",
   "id": "1228349c",
   "metadata": {},
   "source": [
    "### 3.1 Perform word translation from English to Hindi using the aligned embeddings"
   ]
  },
  {
   "cell_type": "code",
   "execution_count": 12,
   "id": "68689d6e",
   "metadata": {},
   "outputs": [],
   "source": [
    "# This is slow - so I used the faiss library to improve the speed\n",
    "# def translate_word(src_word, W, src_emb, tgt_emb):\n",
    "#     if src_word not in src_emb:\n",
    "#         return []\n",
    "#     src_vec = W @ src_emb[src_word]  # Map to target space\n",
    "#     similarities = [(tgt_word, np.dot(src_vec, tgt_vec)) \n",
    "#                     for tgt_word, tgt_vec in tgt_emb.items()]\n",
    "#     similarities.sort(key=lambda x: x[1], reverse=True)\n",
    "#     return [tgt_word for tgt_word, _ in similarities[:5]]\n",
    "# translations = {src: translate_word(src, W, en_embeddings, hi_embeddings) \n",
    "#                 for src, _ in test_pairs}\n",
    "# print(\"Sample translations:\", translations[:5])"
   ]
  },
  {
   "cell_type": "code",
   "execution_count": null,
   "id": "20a6025e",
   "metadata": {},
   "outputs": [],
   "source": [
    "# Build FAISS index for Hindi embeddings to enable fast translation\n",
    "\n",
    "def build_index(embeddings):\n",
    "    dim = 300\n",
    "    index = faiss.IndexFlatIP(dim) \n",
    "    vectors = np.array(list(embeddings.values())).astype('float32')\n",
    "    index.add(vectors)\n",
    "    return index, list(embeddings.keys())"
   ]
  },
  {
   "cell_type": "code",
   "execution_count": null,
   "id": "3cce1eba",
   "metadata": {},
   "outputs": [],
   "source": [
    "# Build index for Hindi embeddings\n",
    "hi_index, hi_words = build_index(hi_embeddings)\n",
    "\n",
    "# Define function to translate source word to target language using FAISS for top-5 nearest neighbors\n",
    "# Returns list of 5 predicted target words\n",
    "\n",
    "def translate_word_faiss(src_word, W, src_emb, index, tgt_words):\n",
    "    if src_word not in src_emb:\n",
    "        return []\n",
    "    src_vec = (W @ src_emb[src_word]).reshape(1, -1).astype('float32')\n",
    "    distances, indices = index.search(src_vec, 5)\n",
    "    return [tgt_words[i] for i in indices[0]]"
   ]
  },
  {
   "cell_type": "code",
   "execution_count": null,
   "id": "0c397f3b",
   "metadata": {},
   "outputs": [],
   "source": [
    "# Translate English test words to Hindi using the aligned embeddings and FAISS\n",
    "# Store results in a dictionary mapping source words to top-5 predictions\n",
    "translations = {src: translate_word_faiss(src, W, en_embeddings, hi_index, hi_words) for src, _ in test_pairs}"
   ]
  },
  {
   "cell_type": "markdown",
   "id": "8b28590c",
   "metadata": {},
   "source": [
    "### 3.2 Evaluate translation accuracy using the MUSE test dictionary  and report Precision@1 and Precision5 metrics for the word transaltion task"
   ]
  },
  {
   "cell_type": "code",
   "execution_count": null,
   "id": "d299e1fd",
   "metadata": {},
   "outputs": [],
   "source": [
    "# function to compute Precision@1 and Precision@5 for translation accuracy\n",
    "# Returns percentage metrics based on test pairs and predictions\n",
    "\n",
    "def evaluate_translation(test_pairs, translations):\n",
    "    p1, p5 = 0, 0\n",
    "    for src, correct_tgts in test_pairs:\n",
    "        if src not in translations:\n",
    "            continue\n",
    "        predicted = translations[src]\n",
    "        correct_tgts = set(correct_tgts.split()) if isinstance(correct_tgts, str) else {correct_tgts}\n",
    "        p1 += 1 if predicted[0] in correct_tgts else 0\n",
    "        p5 += 1 if any(tgt in correct_tgts for tgt in predicted) else 0\n",
    "    total = len([src for src, _ in test_pairs if src in translations])\n",
    "    return p1 / total * 100, p5 / total * 100"
   ]
  },
  {
   "cell_type": "code",
   "execution_count": 17,
   "id": "87aa24a9",
   "metadata": {},
   "outputs": [
    {
     "name": "stdout",
     "output_type": "stream",
     "text": [
      "Precision@1: 28.50%, Precision@5: 53.12%\n"
     ]
    }
   ],
   "source": [
    "# Compute metrics\n",
    "p1, p5 = evaluate_translation(test_pairs, translations)\n",
    "print(f\"Precision@1: {p1:.2f}%, Precision@5: {p5:.2f}%\")"
   ]
  },
  {
   "cell_type": "markdown",
   "id": "50495971",
   "metadata": {},
   "source": [
    "### 3.3 Compare and Analyse cosine similarites between word pairs to assess cross-lingual semantic similarity "
   ]
  },
  {
   "cell_type": "code",
   "execution_count": null,
   "id": "2e65bc6c",
   "metadata": {},
   "outputs": [],
   "source": [
    "# function to compute cosine similarity between mapped source and target word vectors\n",
    "# Returns similarity score or None if words are missing\n",
    "\n",
    "def compute_similarity(src_word, tgt_word, W, src_emb, tgt_emb):\n",
    "    if src_word not in src_emb or tgt_word not in tgt_emb:\n",
    "        return None\n",
    "    mapped_vec = W @ src_emb[src_word]\n",
    "    return np.dot(mapped_vec, tgt_emb[tgt_word])"
   ]
  },
  {
   "cell_type": "code",
   "execution_count": 22,
   "id": "248a9e7e",
   "metadata": {},
   "outputs": [
    {
     "name": "stdout",
     "output_type": "stream",
     "text": [
      "Avg similarity (true pairs): 0.4135, Avg similarity (random pairs): 0.0860\n"
     ]
    }
   ],
   "source": [
    "# Compute average cosine similarities for true test pairs and random pairs\n",
    "# Print results to assess cross-lingual semantic similarity\n",
    "\n",
    "# True pairs\n",
    "true_sims = [compute_similarity(src, tgt, W, en_embeddings, hi_embeddings) for src, tgt in test_pairs if compute_similarity(src, tgt, W, en_embeddings, hi_embeddings) is not None]\n",
    "true_avg = np.mean(true_sims)\n",
    "\n",
    "# Random pairs\n",
    "np.random.shuffle(test_pairs)\n",
    "random_pairs = [(test_pairs[i][0], test_pairs[i+1][1]) for i in range(len(test_pairs)-1)]\n",
    "random_sims = [compute_similarity(src, tgt, W, en_embeddings, hi_embeddings) for src, tgt in random_pairs if compute_similarity(src, tgt, W, en_embeddings, hi_embeddings) is not None]\n",
    "random_avg = np.mean(random_sims)\n",
    "\n",
    "print(f\"Avg similarity (true pairs): {true_avg:.4f}, Avg similarity (random pairs): {random_avg:.4f}\")"
   ]
  },
  {
   "cell_type": "markdown",
   "id": "e5d4e52e",
   "metadata": {},
   "source": [
    "### 3.4 Conduct an ablation study to assess the impact of bilingual lexicon size on alignment quality. Experiment with different training dictionary sizes (e.g., 5k, 10k, 20k word pairs)."
   ]
  },
  {
   "cell_type": "code",
   "execution_count": 20,
   "id": "e9b6b386",
   "metadata": {},
   "outputs": [
    {
     "name": "stderr",
     "output_type": "stream",
     "text": [
      "100%|██████████| 3/3 [01:05<00:00, 21.93s/it]\n"
     ]
    }
   ],
   "source": [
    "# Perform ablation study by training with different lexicon sizes and evaluating performance\n",
    "# Store Precision@1 and Precision@5 results for each size\n",
    "sizes = [1000, 2000, 5000]\n",
    "results = {}\n",
    "\n",
    "for size in tqdm(sizes):\n",
    "    sampled_pairs = np.random.choice(len(train_pairs), size, replace=False)\n",
    "    sampled_train = [train_pairs[i] for i in sampled_pairs]\n",
    "    W_sampled = procrustes_alignment(sampled_train, en_embeddings, hi_embeddings)\n",
    "    sampled_translations = {src: translate_word_faiss(src, W_sampled, en_embeddings, hi_index, hi_words) for src, _ in test_pairs}\n",
    "    p1, p5 = evaluate_translation(test_pairs, sampled_translations)\n",
    "    results[size] = (p1, p5)"
   ]
  },
  {
   "cell_type": "code",
   "execution_count": 21,
   "id": "239d4c5b",
   "metadata": {},
   "outputs": [
    {
     "name": "stdout",
     "output_type": "stream",
     "text": [
      "Training size 1000: P@1 = 16.56%, P@5 = 37.75%\n",
      "Training size 2000: P@1 = 23.38%, P@5 = 44.94%\n",
      "Training size 5000: P@1 = 27.31%, P@5 = 51.69%\n"
     ]
    }
   ],
   "source": [
    "# Print ablation study results showing impact of training lexicon size on translation accuracy\n",
    "for size, (p1, p5) in results.items():\n",
    "    print(f\"Training size {size}: P@1 = {p1:.2f}%, P@5 = {p5:.2f}%\")"
   ]
  },
  {
   "cell_type": "code",
   "execution_count": null,
   "id": "8f1ec0bd",
   "metadata": {},
   "outputs": [
    {
     "data": {
      "image/png": "[encoded data removed]",
      "text/plain": [
       "<Figure size 800x600 with 1 Axes>"
      ]
     },
     "metadata": {},
     "output_type": "display_data"
    }
   ],
   "source": [
    "# Data\n",
    "training_sizes = [1000, 2000, 5000, 8130]\n",
    "p_at_1 = [16.56, 23.38, 27.31, 28.50]\n",
    "p_at_5 = [37.75, 44.94, 51.69, 53.12]\n",
    "\n",
    "plt.figure(figsize=(8, 6))\n",
    "plt.plot(training_sizes, p_at_1, marker='o', label='Precision@1')\n",
    "plt.plot(training_sizes, p_at_5, marker='o', label='Precision@5')\n",
    "plt.xlabel('Training Size (number of word pairs)')\n",
    "plt.ylabel('Precision (%)')\n",
    "plt.title('Impact of Bilingual Lexicon Size on Alignment Quality')\n",
    "plt.legend()\n",
    "plt.grid(True)\n",
    "plt.show()"
   ]
  }
 ],
 "metadata": {
  "kernelspec": {
   "display_name": "base",
   "language": "python",
   "name": "python3"
  },
  "language_info": {
   "codemirror_mode": {
    "name": "ipython",
    "version": 3
   },
   "file_extension": ".py",
   "mimetype": "text/x-python",
   "name": "python",
   "nbconvert_exporter": "python",
   "pygments_lexer": "ipython3",
   "version": "3.11.7"
  }
 },
 "nbformat": 4,
 "nbformat_minor": 5
}
