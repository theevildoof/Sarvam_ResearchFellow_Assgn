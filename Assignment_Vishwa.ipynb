{
 "cells": [
  {
   "cell_type": "markdown",
   "id": "9207713b",
   "metadata": {},
   "source": [
    "# Assignment Submission - Sarvam Research Fellowship "
   ]
  },
  {
   "cell_type": "code",
   "execution_count": 1,
   "id": "ad261905",
   "metadata": {},
   "outputs": [],
   "source": [
    "import fasttext"
   ]
  },
  {
   "cell_type": "code",
   "execution_count": null,
   "id": "806c2ee2",
   "metadata": {},
   "outputs": [],
   "source": []
  }
 ],
 "metadata": {
  "kernelspec": {
   "display_name": "base",
   "language": "python",
   "name": "python3"
  },
  "language_info": {
   "codemirror_mode": {
    "name": "ipython",
    "version": 3
   },
   "file_extension": ".py",
   "mimetype": "text/x-python",
   "name": "python",
   "nbconvert_exporter": "python",
   "pygments_lexer": "ipython3",
   "version": "3.11.7"
  }
 },
 "nbformat": 4,
 "nbformat_minor": 5
}
